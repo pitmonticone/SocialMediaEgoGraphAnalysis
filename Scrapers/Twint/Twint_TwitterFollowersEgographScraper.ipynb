{
 "cells": [
  {
   "cell_type": "markdown",
   "metadata": {},
   "source": [
    "# Twitter Followers Ego Graph Scraper | `twint`\n",
    "\n",
    "Since `twint` is not offically supported by Twitter API, Twitter will interrupt follower stream without any notification after an unspecified time interval.\n",
    "\n",
    "The scraper will go on without excepting, effectively resuming to download users only when Twitter re-allows it to do so, which causes a great portions of followers to ultimatly be missing . It is thus difficult to obtain large egographs with scapers like `twint`.\n",
    "\n",
    "For further information see the [documentation](https://github.com/twintproject/twint/wiki)."
   ]
  },
  {
   "cell_type": "code",
   "execution_count": 1,
   "metadata": {},
   "outputs": [],
   "source": [
    "import twint\n",
    "import nest_asyncio\n",
    "import pandas as pd\n",
    "from progressbar import ProgressBar, Bar, Percentage\n",
    "import time\n",
    "nest_asyncio.apply()\n",
    "\n",
    "def fso(who, whose, limit = None):\n",
    "    c = twint.Config()\n",
    "    c.Username = whose\n",
    "    # later we want to retrieve followers as a pandas dataframe\n",
    "    c.Pandas = True\n",
    "    if limit is not None:\n",
    "        c.Limit = limit\n",
    "    c.Hide_output = True \n",
    "    \n",
    "    try: \n",
    "        if who == \"followers\":\n",
    "            twint.run.Followers(c)\n",
    "        elif who == \"following\":\n",
    "            print(\"following\")\n",
    "            twint.run.Following(c)\n",
    "    except:\n",
    "        print(\"an error occurred\")\n",
    "            \n",
    "    fo_df = twint.storage.panda.Follow_df\n",
    "    fo_list = fo_df[who][whose]\n",
    "    print(\"len(fo.list) = \", len(fo_list))\n",
    "    \n",
    "    # get second order\n",
    "    so_df = pd.DataFrame() \n",
    "    maxval = len(fo_list[:10]) +1\n",
    "    i = 0\n",
    "    pbar = ProgressBar(widgets=[Percentage(), Bar()], maxval=maxval).start()\n",
    "    for user in fo_list[:10]:\n",
    "        try:\n",
    "            time.sleep(10)\n",
    "            c = twint.Config()\n",
    "            c.Username = user\n",
    "            c.Pandas = True\n",
    "            if limit is not None:\n",
    "                c.Limit = limit        \n",
    "            c.Hide_output = True \n",
    "\n",
    "            if who == \"followers\":\n",
    "                twint.run.Followers(c)\n",
    "            elif who == \"following\":\n",
    "                twint.run.Following(c)\n",
    "            so_temp = twint.storage.panda.Follow_df\n",
    "            print(so_temp, \"type(so_temp) = \", type(so_temp))\n",
    "            so_df = so_df.append(so_temp)\n",
    "        except:\n",
    "            print(\"an error occurred\")\n",
    "            \n",
    "        i = i+1\n",
    "        pbar.update(i)\n",
    "    pbar.finish()\n",
    "    return (fo_df,so_df)"
   ]
  },
  {
   "cell_type": "code",
   "execution_count": 2,
   "metadata": {},
   "outputs": [
    {
     "name": "stdout",
     "output_type": "stream",
     "text": [
      "following\n"
     ]
    },
    {
     "name": "stderr",
     "output_type": "stream",
     "text": [
      "  0%|                                                                         |\r"
     ]
    },
    {
     "name": "stdout",
     "output_type": "stream",
     "text": [
      "len(fo.list) =  20\n"
     ]
    },
    {
     "name": "stderr",
     "output_type": "stream",
     "text": [
      "  9%|######                                                                   |\r"
     ]
    },
    {
     "name": "stdout",
     "output_type": "stream",
     "text": [
      "                                                 following\n",
      "JSaatsi  [dvoradikal, DPWF0, litgenstein, haicinnamon, ... type(so_temp) =  <class 'pandas.core.frame.DataFrame'>\n"
     ]
    },
    {
     "name": "stderr",
     "output_type": "stream",
     "text": [
      "CRITICAL:root:twint.feed:Follow:IndexError\n",
      " 18%|#############                                                            |\r"
     ]
    },
    {
     "name": "stdout",
     "output_type": "stream",
     "text": [
      "Empty DataFrame\n",
      "Columns: []\n",
      "Index: [] type(so_temp) =  <class 'pandas.core.frame.DataFrame'>\n"
     ]
    },
    {
     "name": "stderr",
     "output_type": "stream",
     "text": [
      " 27%|###################                                                      |\r"
     ]
    },
    {
     "name": "stdout",
     "output_type": "stream",
     "text": [
      "                                                       following\n",
      "EmilDimanchev  [khlind, ElOstreng, obfosso, MagnusKorpas, Env... type(so_temp) =  <class 'pandas.core.frame.DataFrame'>\n"
     ]
    },
    {
     "name": "stderr",
     "output_type": "stream",
     "text": [
      " 36%|##########################                                               |\r"
     ]
    },
    {
     "name": "stdout",
     "output_type": "stream",
     "text": [
      "                                                      following\n",
      "Maxematician  [_CodeParade_, jmtb02, mallorygaspard, Categor... type(so_temp) =  <class 'pandas.core.frame.DataFrame'>\n"
     ]
    },
    {
     "name": "stderr",
     "output_type": "stream",
     "text": [
      "CRITICAL:root:twint.feed:Follow:IndexError\n",
      " 45%|#################################                                        |\r"
     ]
    },
    {
     "name": "stdout",
     "output_type": "stream",
     "text": [
      "Empty DataFrame\n",
      "Columns: []\n",
      "Index: [] type(so_temp) =  <class 'pandas.core.frame.DataFrame'>\n"
     ]
    },
    {
     "name": "stderr",
     "output_type": "stream",
     "text": [
      " 54%|#######################################                                  |\r"
     ]
    },
    {
     "name": "stdout",
     "output_type": "stream",
     "text": [
      "                                                     following\n",
      "SimonLLewis  [carbonplanorg, benwansell, severeweatherEU, t... type(so_temp) =  <class 'pandas.core.frame.DataFrame'>\n"
     ]
    },
    {
     "name": "stderr",
     "output_type": "stream",
     "text": [
      "CRITICAL:root:twint.feed:Follow:IndexError\n",
      " 63%|##############################################                           |\r"
     ]
    },
    {
     "name": "stdout",
     "output_type": "stream",
     "text": [
      "Empty DataFrame\n",
      "Columns: []\n",
      "Index: [] type(so_temp) =  <class 'pandas.core.frame.DataFrame'>\n"
     ]
    },
    {
     "name": "stderr",
     "output_type": "stream",
     "text": [
      " 72%|#####################################################                    |\r"
     ]
    },
    {
     "name": "stdout",
     "output_type": "stream",
     "text": [
      "                                                   following\n",
      "ajpizzuto  [geodesicvoyager, isskywalker, astronomilena, ... type(so_temp) =  <class 'pandas.core.frame.DataFrame'>\n"
     ]
    },
    {
     "name": "stderr",
     "output_type": "stream",
     "text": [
      " 81%|###########################################################              |\r"
     ]
    },
    {
     "name": "stdout",
     "output_type": "stream",
     "text": [
      "                                                following\n",
      "hglanz  [GregBodwin, mtstatistics, BeastBuilds, Drjayf... type(so_temp) =  <class 'pandas.core.frame.DataFrame'>\n"
     ]
    },
    {
     "name": "stderr",
     "output_type": "stream",
     "text": [
      "100%|#########################################################################|\r"
     ]
    },
    {
     "name": "stdout",
     "output_type": "stream",
     "text": [
      "                                                     following\n",
      "KellyBodwin  [VancityReynolds, rfortherest, BenjaminWolfe, ... type(so_temp) =  <class 'pandas.core.frame.DataFrame'>\n"
     ]
    },
    {
     "name": "stderr",
     "output_type": "stream",
     "text": [
      "\n"
     ]
    }
   ],
   "source": [
    "fo_df, so_df = fso(who = \"following\",whose = \"PietroMonticone\", limit = 20 )"
   ]
  },
  {
   "cell_type": "code",
   "execution_count": 5,
   "metadata": {},
   "outputs": [],
   "source": [
    "# fo_df.to_csv(r\"../working/fo_ego_pietro_20.csv\")\n",
    "# so_df.to_csv(r\"../working/so_ego_pietro_20.csv\")"
   ]
  }
 ],
 "metadata": {
  "kernelspec": {
   "display_name": "Python 3",
   "language": "python",
   "name": "python3"
  },
  "language_info": {
   "codemirror_mode": {
    "name": "ipython",
    "version": 3
   },
   "file_extension": ".py",
   "mimetype": "text/x-python",
   "name": "python",
   "nbconvert_exporter": "python",
   "pygments_lexer": "ipython3",
   "version": "3.7.6"
  }
 },
 "nbformat": 4,
 "nbformat_minor": 4
}
