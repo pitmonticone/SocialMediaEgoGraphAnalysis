{
 "cells": [
  {
   "cell_type": "markdown",
   "metadata": {},
   "source": [
    "# Twitter Followers Ego Graph Scraper | `tweepy`\n",
    "\n",
    "This is the `tweepy` implementation of a first order follower egograph scraper."
   ]
  },
  {
   "cell_type": "markdown",
   "metadata": {},
   "source": [
    "## Modules"
   ]
  },
  {
   "cell_type": "code",
   "execution_count": 1,
   "metadata": {},
   "outputs": [],
   "source": [
    "import tweepy\n",
    "import pickle"
   ]
  },
  {
   "cell_type": "code",
   "execution_count": 8,
   "metadata": {},
   "outputs": [
    {
     "name": "stderr",
     "output_type": "stream",
     "text": [
      "Rate limit reached. Sleeping for: 898\n",
      "Rate limit reached. Sleeping for: 899\n",
      "Rate limit reached. Sleeping for: 899\n",
      "Rate limit reached. Sleeping for: 898\n",
      "Rate limit reached. Sleeping for: 898\n",
      "Rate limit reached. Sleeping for: 898\n"
     ]
    },
    {
     "name": "stdout",
     "output_type": "stream",
     "text": [
      "Connecton error excepted as general excpetion, continuing...\n"
     ]
    },
    {
     "name": "stderr",
     "output_type": "stream",
     "text": [
      "Rate limit reached. Sleeping for: 898\n",
      "Rate limit reached. Sleeping for: 899\n"
     ]
    },
    {
     "name": "stdout",
     "output_type": "stream",
     "text": [
      "Connecton error excepted as general excpetion, continuing...\n"
     ]
    },
    {
     "name": "stderr",
     "output_type": "stream",
     "text": [
      "Rate limit reached. Sleeping for: 899\n",
      "Rate limit reached. Sleeping for: 899\n",
      "Rate limit reached. Sleeping for: 898\n",
      "Rate limit reached. Sleeping for: 899\n",
      "Rate limit reached. Sleeping for: 899\n"
     ]
    }
   ],
   "source": [
    "followers_ids = []\n",
    "\n",
    "consumer_key2 = \"XXXX\"\n",
    "consumer_secret2 = \"XXXX\"\n",
    "\n",
    "token_key2 = \"XXXX\"\n",
    "token_secret2 = \"XXXX\"\n",
    "\n",
    "\n",
    "\n",
    "# because of an unpredictable ('Connection aborted.', OSError(\"(10054, 'WSAECONNRESET')\",)) occuriing from time to time, which seems to be caused by twitter randomly shutting down developer app connections, the startegy implemented here consists in reconnecting the app after every request.\n",
    "# Cursor implements the pagination startegy of the new latest Tweepy API. cursor = -1 begins pagination.\n",
    "cursor = -1\n",
    "while cursor != 0:\n",
    "    # reconnect app after every iteration\n",
    "    auth2 = tweepy.OAuthHandler(consumer_key2, consumer_secret2)\n",
    "    auth2.set_access_token(token_key2, token_secret2)\n",
    "    # instantiate client in such a way that it notifies and waits on rate limits exceeded, and internlly handles some http error codes. \n",
    "    client2 = tweepy.API(auth2, wait_on_rate_limit = True,wait_on_rate_limit_notify = True, retry_count = 5, retry_delay = 10, retry_errors=set([401, 404, 500, 503,10054]) ) \n",
    "    # retrieve 5000 follower ids and paginate them\n",
    "    itr = tweepy.Cursor(client2.followers_ids, screen_name=\"BorisJohnson\", cursor=cursor).pages()\n",
    "\n",
    "    try:\n",
    "        # itr.next returns an iterator over the pages\n",
    "        for follower_id in itr.next():\n",
    "            followers_ids.append(follower_id)\n",
    "        # dump followers to binary file\n",
    "        with open(r\"Q:\\IlMIoDrive\\magistrale\\1anno\\terzo_periodo\\CSS\\progetto\\outputs\\corbyn\\fo_followers_BorisJohnson2.txt\", \"ab\") as f:\n",
    "            pickle.dump(followers_ids, f)\n",
    "            f.close()\n",
    "        followers_ids = []\n",
    "    except:\n",
    "        print(\"Connection error excepted as general exception, continuing...\")\n",
    "        continue\n",
    "        \n",
    "    cursor = itr.next_cursor"
   ]
  }
 ],
 "metadata": {
  "kernelspec": {
   "display_name": "Python 3",
   "language": "python",
   "name": "python3"
  },
  "language_info": {
   "codemirror_mode": {
    "name": "ipython",
    "version": 3
   },
   "file_extension": ".py",
   "mimetype": "text/x-python",
   "name": "python",
   "nbconvert_exporter": "python",
   "pygments_lexer": "ipython3",
   "version": "3.7.6"
  }
 },
 "nbformat": 4,
 "nbformat_minor": 4
}
